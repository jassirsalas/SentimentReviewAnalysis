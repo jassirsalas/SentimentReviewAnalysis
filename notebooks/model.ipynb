{
 "cells": [
  {
   "cell_type": "code",
   "execution_count": null,
   "id": "e8544170",
   "metadata": {},
   "outputs": [
    {
     "data": {
      "text/plain": [
       "['model.pkl']"
      ]
     },
     "execution_count": 108,
     "metadata": {},
     "output_type": "execute_result"
    }
   ],
   "source": [
    "import joblib\n",
    "import spacy\n",
    "import pandas as pd\n",
    "from nltk.corpus import stopwords\n",
    "from sklearn.pipeline import Pipeline\n",
    "from sklearn.model_selection import train_test_split\n",
    "from sklearn.feature_extraction import DictVectorizer\n",
    "from sklearn.base import BaseEstimator, TransformerMixin\n",
    "\n",
    "try:\n",
    "    nlp = spacy.load(\"es_core_news_sm\")\n",
    "except OSError:\n",
    "    print(\"El modelo 'es_core_news_sm' de spaCy no está descargado. Por favor, ejecuta:\")\n",
    "    print(\"python -m spacy download es_core_news_sm\")\n",
    "    exit()\n",
    "\n",
    "class PreprocessText(BaseEstimator, TransformerMixin):\n",
    "    def __init__(self, nlp_model):\n",
    "        self.nlp = nlp_model\n",
    "    \n",
    "    def fit(self, X, y=None):\n",
    "        return self\n",
    "    \n",
    "    def transform(self, X):\n",
    "        preprocessed_texts = [self._preprocess(text) for text in X]\n",
    "        return preprocessed_texts\n",
    "\n",
    "    def _preprocess(self, text):\n",
    "        # minux, removing stop words, tokenize \n",
    "        nlp = spacy.load('es_core_news_sm')\n",
    "        \n",
    "        text = text.lower()\n",
    "        doc = nlp(text)\n",
    "\n",
    "        tokens = [token.lemma_.lower() for token in doc if not token.is_stop and not token.is_punct]\n",
    "\n",
    "        preprocessed_text = ' '.join(tokens)\n",
    "        \n",
    "        doc = nlp(preprocessed_text)\n",
    "        \n",
    "        features = {}\n",
    "        for token in doc:\n",
    "            if not token.is_stop and not token.is_punct:\n",
    "                key = token.lemma_.lower()\n",
    "                features[key] = features.get(key, 0) + 1\n",
    "        return features\n",
    "\n",
    "df = pd.read_csv(\"./dataset.csv\")\n",
    "\n",
    "X = df[\"comentario\"]\n",
    "y = df[\"sentimiento\"]\n",
    "\n",
    "model = Pipeline([\n",
    "    ('preprocess', PreprocessText(nlp_model=nlp)),\n",
    "    ('dictVec', DictVectorizer()),\n",
    "    ('bayesNB', MultinomialNB(class_prior=[0.5, 0.5]))\n",
    "])\n",
    "\n",
    "model.fit(X, y)\n",
    "\n",
    "joblib.dump(model, \"model.pkl\")\n"
   ]
  },
  {
   "cell_type": "code",
   "execution_count": 109,
   "id": "29a20795",
   "metadata": {},
   "outputs": [],
   "source": [
    "positive_comments = [\n",
    "    \"Me encantó este producto, superó mis expectativas.\",\n",
    "    \"El servicio al cliente fue excepcional.\",\n",
    "    \"Muy buena calidad, definitivamente lo recomendaré.\",\n",
    "    \"La entrega llegó antes de lo esperado.\",\n",
    "    \"Excelente experiencia de compra.\",\n",
    "    \"El diseño es hermoso y muy práctico.\",\n",
    "    \"Estoy muy satisfecho con la atención recibida.\",\n",
    "    \"La relación calidad-precio es insuperable.\",\n",
    "    \"Funcionó perfectamente desde el primer momento.\",\n",
    "    \"El producto es tal cual lo describe la página.\",\n",
    "    \"Gran rapidez en el envío.\",\n",
    "    \"La interfaz es muy intuitiva y fácil de usar.\",\n",
    "    \"Quedé encantado con los resultados.\",\n",
    "    \"La atención fue muy amable y profesional.\",\n",
    "    \"El empaque estaba en perfectas condiciones.\",\n",
    "    \"Me gustó mucho la presentación y los detalles.\",\n",
    "    \"El rendimiento es sobresaliente.\",\n",
    "    \"La experiencia de usuario es muy fluida.\",\n",
    "    \"Superó mis expectativas en todos los aspectos.\",\n",
    "    \"Es justo lo que estaba buscando.\",\n",
    "    \"Lo volvería a comprar sin pensarlo.\",\n",
    "    \"El soporte técnico resolvió mi duda rápidamente.\",\n",
    "    \"La calidad de los materiales es excelente.\",\n",
    "    \"Me siento muy bien con mi compra.\",\n",
    "    \"Todo funcionó de manera impecable.\",\n",
    "    \"La app es muy estable y rápida.\",\n",
    "    \"El producto es muy durable.\",\n",
    "    \"La atención posventa fue muy eficiente.\",\n",
    "    \"Estoy muy contento con la compra.\",\n",
    "    \"Totalmente recomendado.\"\n",
    "]\n",
    "\n",
    "negative_comments = [\n",
    "    \"No me gustó este producto, llegó en mal estado.\",\n",
    "    \"La calidad es muy pobre y decepcionante.\",\n",
    "    \"Servicio al cliente inexistente, nadie responde.\",\n",
    "    \"Nunca volvería a comprar esto.\",\n",
    "    \"No funciona como prometieron en la descripción.\",\n",
    "    \"Experiencia de compra muy mala.\",\n",
    "    \"El envío tardó muchísimo más de lo indicado.\",\n",
    "    \"El empaque llegó abierto y dañado.\",\n",
    "    \"El producto no cumple con lo que ofrece.\",\n",
    "    \"Precio excesivo para lo que ofrece.\",\n",
    "    \"La interfaz es confusa y poco intuitiva.\",\n",
    "    \"El diseño es incómodo de usar.\",\n",
    "    \"Las instrucciones vienen incompletas.\",\n",
    "    \"Tuve muchos problemas para instalarlo.\",\n",
    "    \"No vale lo que cuesta.\",\n",
    "    \"El soporte técnico no me brindó solución.\",\n",
    "    \"Faltan piezas en el paquete recibido.\",\n",
    "    \"La batería se agota en minutos.\",\n",
    "    \"El material se siente de baja calidad.\",\n",
    "    \"La aplicación se cierra sola constantemente.\",\n",
    "    \"Recibí un artículo totalmente distinto al pedido.\",\n",
    "    \"La atención posventa fue muy deficiente.\",\n",
    "    \"No detecta correctamente los datos ingresados.\",\n",
    "    \"El audio sale distorsionado y bajo.\",\n",
    "    \"La configuración es demasiado complicada.\",\n",
    "    \"Tuve que devolverlo de inmediato.\",\n",
    "    \"No lo recomendaría a nadie.\",\n",
    "    \"Mal empaquetado y entrega retrasada.\",\n",
    "    \"Se rompió en el primer uso.\",\n",
    "    \"No cumple en absoluto con mis expectativas.\"\n",
    "]"
   ]
  },
  {
   "cell_type": "code",
   "execution_count": 110,
   "id": "b1813bc2",
   "metadata": {},
   "outputs": [
    {
     "data": {
      "text/plain": [
       "array(['positivo', 'positivo', 'positivo', 'negativo', 'positivo',\n",
       "       'negativo', 'positivo', 'positivo', 'positivo', 'negativo',\n",
       "       'negativo', 'positivo', 'negativo', 'negativo', 'positivo',\n",
       "       'negativo', 'negativo', 'negativo', 'positivo', 'positivo',\n",
       "       'positivo', 'negativo', 'positivo', 'positivo', 'positivo',\n",
       "       'positivo', 'positivo', 'negativo', 'positivo', 'positivo'],\n",
       "      dtype='<U8')"
      ]
     },
     "execution_count": 110,
     "metadata": {},
     "output_type": "execute_result"
    }
   ],
   "source": [
    "model.predict(X=positive_comments)"
   ]
  },
  {
   "cell_type": "code",
   "execution_count": 111,
   "id": "984e0b5e",
   "metadata": {},
   "outputs": [
    {
     "data": {
      "text/plain": [
       "array(['positivo', 'positivo', 'positivo', 'positivo', 'positivo',\n",
       "       'negativo', 'negativo', 'negativo', 'negativo', 'negativo',\n",
       "       'positivo', 'negativo', 'negativo', 'negativo', 'negativo',\n",
       "       'negativo', 'negativo', 'negativo', 'positivo', 'negativo',\n",
       "       'positivo', 'negativo', 'negativo', 'negativo', 'negativo',\n",
       "       'negativo', 'negativo', 'negativo', 'negativo', 'negativo'],\n",
       "      dtype='<U8')"
      ]
     },
     "execution_count": 111,
     "metadata": {},
     "output_type": "execute_result"
    }
   ],
   "source": [
    "model.predict(X=negative_comments)"
   ]
  },
  {
   "cell_type": "code",
   "execution_count": 112,
   "id": "8f474225",
   "metadata": {},
   "outputs": [],
   "source": [
    "from sklearn.metrics import classification_report\n",
    "\n",
    "test_data = pd.read_csv('./testdata.csv')\n",
    "\n",
    "X_test = test_data['comentario']\n",
    "y_test = test_data['sentimiento']\n",
    "\n",
    "y_pred = model.predict(X_test)"
   ]
  },
  {
   "cell_type": "code",
   "execution_count": 113,
   "id": "74642811",
   "metadata": {},
   "outputs": [
    {
     "name": "stdout",
     "output_type": "stream",
     "text": [
      "              precision    recall  f1-score   support\n",
      "\n",
      "    negativo       0.67      0.93      0.78        15\n",
      "    positivo       0.89      0.53      0.67        15\n",
      "\n",
      "    accuracy                           0.73        30\n",
      "   macro avg       0.78      0.73      0.72        30\n",
      "weighted avg       0.78      0.73      0.72        30\n",
      "\n"
     ]
    }
   ],
   "source": [
    "print(classification_report(y_test, y_pred))"
   ]
  },
  {
   "cell_type": "code",
   "execution_count": 114,
   "id": "249e74b3",
   "metadata": {},
   "outputs": [
    {
     "name": "stdout",
     "output_type": "stream",
     "text": [
      "[[14  1]\n",
      " [ 7  8]]\n"
     ]
    },
    {
     "data": {
      "image/png": "[encoded data removed]",
      "text/plain": [
       "<Figure size 640x480 with 2 Axes>"
      ]
     },
     "metadata": {},
     "output_type": "display_data"
    }
   ],
   "source": [
    "import matplotlib.pyplot as plt\n",
    "from sklearn.metrics import confusion_matrix, ConfusionMatrixDisplay\n",
    "\n",
    "cm = confusion_matrix(y_true=y_test, y_pred=y_pred, labels=['negativo', 'positivo'])\n",
    "\n",
    "disp = ConfusionMatrixDisplay(\n",
    "    confusion_matrix=cm,\n",
    "    display_labels=['negativo', 'positivo']\n",
    ")\n",
    "\n",
    "print(cm)\n",
    "\n",
    "disp.plot()\n",
    "plt.title(\"Matriz de confusión\")\n",
    "plt.xlabel(\"Predicción\")\n",
    "plt.ylabel(\"Verdadero\")\n",
    "plt.show()"
   ]
  },
  {
   "cell_type": "code",
   "execution_count": 1,
   "id": "8e3ebde6",
   "metadata": {},
   "outputs": [
    {
     "ename": "NameError",
     "evalue": "name 'model' is not defined",
     "output_type": "error",
     "traceback": [
      "\u001b[31m---------------------------------------------------------------------------\u001b[39m",
      "\u001b[31mNameError\u001b[39m                                 Traceback (most recent call last)",
      "\u001b[36mCell\u001b[39m\u001b[36m \u001b[39m\u001b[32mIn[1]\u001b[39m\u001b[32m, line 1\u001b[39m\n\u001b[32m----> \u001b[39m\u001b[32m1\u001b[39m \u001b[43mmodel\u001b[49m.predict([\u001b[33m'\u001b[39m\u001b[33mdificil de contactar\u001b[39m\u001b[33m'\u001b[39m])\n",
      "\u001b[31mNameError\u001b[39m: name 'model' is not defined"
     ]
    }
   ],
   "source": [
    "model.predict(['dificil de contactar'])"
   ]
  },
  {
   "cell_type": "code",
   "execution_count": null,
   "id": "fe19522f",
   "metadata": {},
   "outputs": [],
   "source": []
  }
 ],
 "metadata": {
  "kernelspec": {
   "display_name": "sci",
   "language": "python",
   "name": "python3"
  },
  "language_info": {
   "codemirror_mode": {
    "name": "ipython",
    "version": 3
   },
   "file_extension": ".py",
   "mimetype": "text/x-python",
   "name": "python",
   "nbconvert_exporter": "python",
   "pygments_lexer": "ipython3",
   "version": "3.13.5"
  }
 },
 "nbformat": 4,
 "nbformat_minor": 5
}
